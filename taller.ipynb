{
 "cells": [
  {
   "cell_type": "markdown",
   "id": "ea4847f5-8564-4146-a32b-08f86282f5f0",
   "metadata": {
    "slideshow": {
     "slide_type": "slide"
    },
    "tags": []
   },
   "source": [
    "# ¡Webapp interactiva sin salir de jupyterlab!\n",
    "\n",
    "Dale vida a tus notebooks, visualizá datos y sus cambios, creá recursos divertidos para enseñar, mostrá los resultados de tus investigaciones con diferentes datos de entrada.\n",
    "\n",
    "Aprendé cómo crear, renderizar, hostear y compartir una web app interactiva con Python y sin salir de jupyterlab (o jupyter notebook)."
   ]
  },
  {
   "cell_type": "markdown",
   "id": "6ba32dc0-890e-485b-b52d-7def7e398125",
   "metadata": {
    "slideshow": {
     "slide_type": "slide"
    },
    "tags": []
   },
   "source": [
    "## ¿GUIENSÓ?\n",
    "\n",
    "* Bibiana, *bibo*\n",
    "    * 🐍 Pythonista\n",
    "    * 📡 Ingeniera\n",
    "    * 🍎 Doncente\n",
    "    * 🤪 Manija\n",
    "    \n",
    "[@31b1ana](https://twitter.com/31b1ana)"
   ]
  },
  {
   "cell_type": "markdown",
   "id": "75ea1274-43fd-44d8-b02d-cfc118fabe03",
   "metadata": {
    "slideshow": {
     "slide_type": "subslide"
    },
    "tags": []
   },
   "source": [
    "## ¿Qué?, ¿cómo?, ¿cuándo?\n",
    "\n",
    "Hoy vamos a:\n",
    "* 🤓 Instalar las herramientas necesarias: *[python](https://www.python.org/downloads/), [git](https://git-scm.com/downloads), [jupyterlab](https://jupyter.org) (o notebook), [ipywidgets](https://ipywidgets.readthedocs.io/en/latest/)*\n",
    "    * También vamos a usar *[voilá](https://github.com/voila-dashboards/voila), [binder](https://mybinder.org/)*\n",
    "    * Y necesitamos tener una cuenta en [Github](https://github.com/)\n",
    "* 🐙 Crear un nuevo repo en [Github](https://github.com/)\n",
    "* 👯 ¡Crear web interactiva! \n",
    "    * Mínimos preparativos del entorno ([jupyterlab](https://jupyter.org))\n",
    "    * Amigarse con la documentación oficial ([ipywidgets](https://ipywidgets.readthedocs.io/en/latest/))\n",
    "    * Agregar algunos elementos interactivos ([ipywidgets](https://ipywidgets.readthedocs.io/en/latest/))\n",
    "    * ¡Divertirnos!\n",
    "    * Render del notebook ([voilá](https://github.com/voila-dashboards/voila))\n",
    "    * Publicar y presumir nuestra webapp con [binder](https://mybinder.org/)"
   ]
  },
  {
   "cell_type": "markdown",
   "id": "56a66c02-288b-4be4-a553-5a3a4911c5ef",
   "metadata": {
    "slideshow": {
     "slide_type": "slide"
    },
    "tags": []
   },
   "source": [
    "## 🤓 Instalar las herramientas necesarias\n",
    "\n",
    "[![](https://img.shields.io/badge/Python-3776AB?style=for-the-badge&logo=python&logoColor=white)](https://www.python.org/downloads/) [python.org/downloads/](https://www.python.org/downloads)\n",
    "\n",
    "* GNU/Linux 😎\n",
    "\n",
    "* Windows 🔥 \n",
    "\n",
    "![](https://docs.python.org/es/dev/_images/win_installer.png)"
   ]
  },
  {
   "cell_type": "markdown",
   "id": "db576fd0-e9b1-43d7-9af0-08aa7ce05cce",
   "metadata": {
    "slideshow": {
     "slide_type": "subslide"
    },
    "tags": []
   },
   "source": [
    "## 🤓 Instalar las herramientas necesarias\n",
    "\n",
    "[![](https://img.shields.io/badge/Git-F05032?style=for-the-badge&logo=git&logoColor=white)](https://git-scm.com/downloads) [git-scm.com/downloads](https://git-scm.com/downloads)\n",
    "\n",
    "* GNU/Linux 😎\n",
    "    * `~$ sudo apt install git`\n",
    "\n",
    "* Windows 🔥 \n",
    "\n",
    "![](https://s3-us-west-1.amazonaws.com/fili-blog/2018/09/install-git-windows.png)"
   ]
  },
  {
   "cell_type": "markdown",
   "id": "1d4d912c-18d8-4043-b9ea-1e199d662d5d",
   "metadata": {
    "slideshow": {
     "slide_type": "subslide"
    },
    "tags": []
   },
   "source": [
    "## 🤓 Instalar las herramientas necesarias\n",
    "\n",
    "[![](https://anaconda.org/anaconda/anaconda/badges/installer/conda.svg)](https://docs.conda.io/en/latest/miniconda.html) [docs.conda.io/en/latest/miniconda](https://docs.conda.io/en/latest/miniconda.html)\n",
    "\n",
    "* GNU/Linux 😎\n",
    "\n",
    "```bash\n",
    "~$ cd Downloads\n",
    "~$ sudo chmod +x Miniconda3-latest-Linux-x86_64.sh\n",
    "~$ ./Miniconda3-latest-Linux-x86_64.sh\n",
    "```\n",
    "\n",
    "* Windows 🔥 \n",
    "\n",
    "![](https://katiekodes.com/images/screenshot-miniconda-05-pathanddefault.png)"
   ]
  },
  {
   "cell_type": "markdown",
   "id": "f1ffe613-e448-4a87-9c7f-980ed63978fe",
   "metadata": {
    "slideshow": {
     "slide_type": "subslide"
    },
    "tags": []
   },
   "source": [
    "## 🤓 Instalar las herramientas necesarias\n",
    "\n",
    "[![](https://img.shields.io/badge/Jupyter-F37626.svg?&style=for-the-badge&logo=Jupyter&logoColor=white)](https://jupyter.org/) [jupyter.org](https://jupyter.org/)\n",
    "\n",
    "* GNU/Linux 😎\n",
    "\n",
    "```bash\n",
    "(webapp)~$ conda install jupyterlab\n",
    "```\n",
    "\n",
    "* Windows 🔥 \n",
    "\n",
    "![](https://media.geeksforgeeks.org/wp-content/uploads/20200120170814/Jupyter-Installation-01.jpg)"
   ]
  },
  {
   "cell_type": "markdown",
   "id": "d6bb2323-b481-4cc2-ae00-10c946ca0f1f",
   "metadata": {
    "slideshow": {
     "slide_type": "subslide"
    },
    "tags": []
   },
   "source": [
    "## 🤓 Instalar las herramientas necesarias\n",
    "\n",
    "### Atajo desesperado\n",
    "\n",
    "[![](https://img.shields.io/badge/Jupyter-F37626.svg?&style=for-the-badge&logo=Jupyter&logoColor=white)](https://mybinder.org/v2/gh/jupyterlab/jupyterlab-demo/master?urlpath=lab/tree/demo](https://jupyter.orghttps://mybinder.org/v2/gh/jupyterlab/jupyterlab-demo/master?urlpath=lab/tree/demo/) [Try Jupyterlab](https://mybinder.org/v2/gh/jupyterlab/jupyterlab-demo/master?urlpath=lab/tree/demo)\n",
    "\n",
    "![](img/jupyterlab.png)"
   ]
  },
  {
   "cell_type": "markdown",
   "id": "e1f6d50e-d394-45a3-b449-4bb99467395b",
   "metadata": {
    "slideshow": {
     "slide_type": "slide"
    },
    "tags": []
   },
   "source": [
    "## 🐙 Crear un nuevo repo\n",
    "\n",
    "* Cuenta en [**github.com**](https://github.com/)\n",
    "\n",
    "![](https://raw.githubusercontent.com/gist/ManulMax/2d20af60d709805c55fd784ca7cba4b9/raw/bcfeac7604f674ace63623106eb8bb8471d844a6/github.gif)"
   ]
  },
  {
   "cell_type": "markdown",
   "id": "bad8c89a-fe4c-4eaf-9852-3174afac158d",
   "metadata": {
    "slideshow": {
     "slide_type": "subslide"
    },
    "tags": []
   },
   "source": [
    "## 🐙 Crear un nuevo repo\n",
    "\n",
    "![](https://docs.github.com/assets/images/help/repository/create-repository-desc.png)"
   ]
  },
  {
   "cell_type": "markdown",
   "id": "361ad877-8160-4077-8545-c7ff92c31d86",
   "metadata": {
    "slideshow": {
     "slide_type": "slide"
    },
    "tags": []
   },
   "source": [
    "## 👯 ¡Crear web interactiva!\n",
    "## Mínimos preparativos del entorno\n",
    "Crear un virtual **virtualenv**\n",
    "\n",
    "* GNU/Linux 😎\n",
    "\n",
    "```bash\n",
    "~$ conda create -n webapp python=3.8\n",
    "~$ conda activate webapp\n",
    "(webapp)~$ echo 'Ya estamos en nuestro env!'\n",
    "```\n",
    "\n",
    "* Windows 🔥 \n",
    "\n",
    "![](https://docs.anaconda.com/_images/nav-env-tab.png)"
   ]
  },
  {
   "cell_type": "markdown",
   "id": "2835c41f-a36c-48db-90c9-668eb24d80b7",
   "metadata": {
    "slideshow": {
     "slide_type": "subslide"
    },
    "tags": []
   },
   "source": [
    "## 👯 ¡Crear web interactiva!\n",
    "## Mínimos preparativos del entorno\n",
    "\n",
    "Clonar el repo\n",
    "\n",
    "```bash\n",
    "(webapp)~$ git clone https://github.com/brivadeneira/taller-webapp-pyladies-uy\n",
    "```\n",
    "\n",
    "* GNU/Linux 😎\n",
    "\n",
    "```bash\n",
    "(webapp)~$ cd taller-webapp-pyladies-uy\n",
    "(webapp)~taller-webapp-pyladies-uy$ jupyter-lab\n",
    "```\n",
    "\n",
    "* Windows 🔥 \n",
    "\n",
    "![](https://i.stack.imgur.com/ZBxTL.jpg)"
   ]
  },
  {
   "cell_type": "markdown",
   "id": "5977001f-d7a6-4643-b7bd-07588ec4afb2",
   "metadata": {
    "slideshow": {
     "slide_type": "subslide"
    },
    "tags": []
   },
   "source": [
    "## 👯 ¡Crear web interactiva!\n",
    "\n",
    "### Mínimos preparativos del entorno"
   ]
  },
  {
   "cell_type": "markdown",
   "id": "895064cb-ab5d-45d7-805d-310f4e496cb1",
   "metadata": {
    "slideshow": {
     "slide_type": "fragment"
    },
    "tags": []
   },
   "source": [
    "``` \n",
    "! pip install widgetsnbextension\n",
    "! pip install ipywidgets\n",
    "! pip install voila\n",
    "``` "
   ]
  },
  {
   "cell_type": "code",
   "execution_count": 1,
   "id": "ed005114-fbb7-4111-901f-0e85ce5fbce9",
   "metadata": {
    "slideshow": {
     "slide_type": "fragment"
    },
    "tags": []
   },
   "outputs": [
    {
     "name": "stdout",
     "output_type": "stream",
     "text": []
    },
    {
     "name": "stdout",
     "output_type": "stream",
     "text": []
    },
    {
     "name": "stdout",
     "output_type": "stream",
     "text": [
      "Building jupyterlab assets (production, minimized)\n",
      "Enabling notebook extension jupyter-js-widgets/extension...\n",
      "      - Validating: \u001b[32mOK\u001b[0m\n",
      "Enabling: voila\n",
      "- Writing config: /home/bibo/miniconda3/envs/webapp/etc/jupyter\n",
      "    - Validating...\n",
      "      voila 0.2.14 \u001b[32mOK\u001b[0m\n"
     ]
    }
   ],
   "source": [
    "import ipywidgets as widgets\n",
    "from IPython.display import display, clear_output\n",
    "\n",
    "import warnings\n",
    "warnings.filterwarnings('ignore')\n",
    "\n",
    "! jupyter labextension install @jupyter-widgets/jupyterlab-manager\n",
    "! jupyter nbextension enable --py widgetsnbextension --sys-prefix\n",
    "! jupyter serverextension enable voila --sys-prefix\n",
    "\n",
    "# reiniciar jupyter!"
   ]
  },
  {
   "cell_type": "markdown",
   "id": "05802556-f9b0-4932-a0a1-5b87a4feebea",
   "metadata": {
    "slideshow": {
     "slide_type": "subslide"
    },
    "tags": []
   },
   "source": [
    "## 👯 ¡Crear web interactiva!\n",
    "\n",
    "### Amigarse con la documentación oficial ([ipywidgets](https://ipywidgets.readthedocs.io/en/latest/))\n",
    "\n",
    "[ipywidgets.readthedocs.io](https://ipywidgets.readthedocs.io/en/latest/)\n",
    "\n",
    "#### IntSlider"
   ]
  },
  {
   "cell_type": "code",
   "execution_count": 2,
   "id": "46dd88ce-2765-479a-aea7-4be2572352de",
   "metadata": {
    "slideshow": {
     "slide_type": "fragment"
    },
    "tags": []
   },
   "outputs": [
    {
     "data": {
      "application/vnd.jupyter.widget-view+json": {
       "model_id": "",
       "version_major": 2,
       "version_minor": 0
      },
      "text/plain": [
       "IntSlider(value=0)"
      ]
     },
     "metadata": {},
     "output_type": "display_data"
    },
    {
     "name": "stdout",
     "output_type": "stream",
     "text": [
      "widget value:  0\n",
      "widget value:  100\n"
     ]
    }
   ],
   "source": [
    "from IPython.display import display\n",
    "\n",
    "w = widgets.IntSlider()\n",
    "display(w)\n",
    "print('widget value: ', w.value)\n",
    "\n",
    "w.value = 100\n",
    "print('widget value: ', w.value)"
   ]
  },
  {
   "cell_type": "markdown",
   "id": "b16c615b-1aed-4a06-9d40-2f2ef2d2bb99",
   "metadata": {
    "slideshow": {
     "slide_type": "subslide"
    },
    "tags": []
   },
   "source": [
    "## 👯 ¡Crear web interactiva!\n",
    "\n",
    "### Amigarse con la documentación oficial ([ipywidgets](https://ipywidgets.readthedocs.io/en/latest/))\n",
    "\n",
    "[ipywidgets.readthedocs.io](https://ipywidgets.readthedocs.io/en/latest/)\n",
    "\n",
    "#### El objeto widget"
   ]
  },
  {
   "cell_type": "code",
   "execution_count": 3,
   "id": "229fd821-953d-41ec-80b9-9031ad20683a",
   "metadata": {
    "slideshow": {
     "slide_type": "fragment"
    },
    "tags": []
   },
   "outputs": [
    {
     "name": "stdout",
     "output_type": "stream",
     "text": [
      "_dom_classes:  ()\n",
      "_model_module:  @jupyter-widgets/controls\n",
      "_model_module_version:  1.5.0\n",
      "_model_name:  IntSliderModel\n",
      "_view_count:  None\n",
      "_view_module:  @jupyter-widgets/controls\n",
      "_view_module_version:  1.5.0\n",
      "_view_name:  IntSliderView\n"
     ]
    }
   ],
   "source": [
    "print('_dom_classes: ', w._dom_classes)\n",
    "print('_model_module: ', w._model_module)\n",
    "print('_model_module_version: ', w._model_module_version)\n",
    "print('_model_name: ', w._model_name)\n",
    "print('_view_count: ', w._view_count)\n",
    "print('_view_module: ', w._view_module)\n",
    "print('_view_module_version: ', w._view_module_version)\n",
    "print('_view_name: ', w._view_name)"
   ]
  },
  {
   "cell_type": "markdown",
   "id": "c24e7ab5-fda8-4919-9b3b-2539817bf546",
   "metadata": {
    "slideshow": {
     "slide_type": "subslide"
    },
    "tags": []
   },
   "source": [
    "## 👯 ¡Crear web interactiva!\n",
    "\n",
    "### Amigarse con la documentación oficial ([ipywidgets](https://ipywidgets.readthedocs.io/en/latest/))\n",
    "\n",
    "[ipywidgets.readthedocs.io](https://ipywidgets.readthedocs.io/en/latest/)\n",
    "\n",
    "#### El objeto widget"
   ]
  },
  {
   "cell_type": "code",
   "execution_count": null,
   "id": "dfb4cadc-f8e8-40e3-be0a-e7bc0f6cd2ae",
   "metadata": {},
   "outputs": [],
   "source": [
    "print('continuous_update: ', w.continuous_update)\n",
    "print('description: ', w.description)\n",
    "print('description_tooltip: ', w.description_tooltip)\n",
    "print('disabled: ', w.disabled)\n",
    "print('layout: ', w.layout)\n",
    "print('style: ', w.style)\n",
    "print('value: ', w.value)\n",
    "w.close()"
   ]
  },
  {
   "cell_type": "markdown",
   "id": "e9fbf5e3-5f9c-4020-a07c-ec3f7139707e",
   "metadata": {
    "slideshow": {
     "slide_type": "subslide"
    },
    "tags": []
   },
   "source": [
    "## 👯 ¡Crear web interactiva!\n",
    "\n",
    "### Amigarse con la documentación oficial ([ipywidgets](https://ipywidgets.readthedocs.io/en/latest/))\n",
    "\n",
    "[ipywidgets.readthedocs.io](https://ipywidgets.readthedocs.io/en/latest/)\n",
    "\n",
    "#### El objeto widget"
   ]
  },
  {
   "cell_type": "markdown",
   "id": "7fc1f701-8808-4e19-86b0-ca1db3df3741",
   "metadata": {
    "slideshow": {
     "slide_type": "fragment"
    },
    "tags": []
   },
   "source": [
    "![](https://ipywidgets.readthedocs.io/en/latest/_images/WidgetModelView.png)"
   ]
  },
  {
   "cell_type": "markdown",
   "id": "070a1138-98d8-4b4b-a695-411c372552dc",
   "metadata": {
    "slideshow": {
     "slide_type": "subslide"
    },
    "tags": []
   },
   "source": [
    "## 👯 ¡Crear web interactiva!\n",
    "\n",
    "### Agregar algunos elementos interactivos\n",
    "\n",
    "#### Text"
   ]
  },
  {
   "cell_type": "code",
   "execution_count": 5,
   "id": "63855ee4-a9d3-47db-8f37-73e0127a1dad",
   "metadata": {
    "slideshow": {
     "slide_type": "fragment"
    },
    "tags": []
   },
   "outputs": [
    {
     "data": {
      "application/vnd.jupyter.widget-view+json": {
       "model_id": "2a008e7828bc4f49a1cff9ed5e990624",
       "version_major": 2,
       "version_minor": 0
      },
      "text/plain": [
       "Text(value='Hola Payladies!!', disabled=True)"
      ]
     },
     "metadata": {},
     "output_type": "display_data"
    }
   ],
   "source": [
    "widgets.Text(value='Hola Payladies!!', disabled=True)"
   ]
  },
  {
   "cell_type": "markdown",
   "id": "bfda7f33-80eb-4582-ba3a-c171ad943233",
   "metadata": {
    "slideshow": {
     "slide_type": "fragment"
    },
    "tags": []
   },
   "source": [
    "* ¿Cómo habilito la caja de texto?"
   ]
  },
  {
   "cell_type": "code",
   "execution_count": null,
   "id": "9c208c03-8148-423c-9d0d-a1ba2568e078",
   "metadata": {
    "slideshow": {
     "slide_type": "fragment"
    },
    "tags": []
   },
   "outputs": [],
   "source": []
  },
  {
   "cell_type": "markdown",
   "id": "7f933753-a062-4f05-9d82-50bc1661a1df",
   "metadata": {
    "slideshow": {
     "slide_type": "subslide"
    },
    "tags": []
   },
   "source": [
    "## 👯 ¡Crear web interactiva!\n",
    "\n",
    "### Agregar algunos elementos interactivos\n",
    "\n",
    "#### Linkear widgets"
   ]
  },
  {
   "cell_type": "code",
   "execution_count": 7,
   "id": "d42b57d6-64f0-487a-8407-737bc424257e",
   "metadata": {
    "slideshow": {
     "slide_type": "fragment"
    },
    "tags": []
   },
   "outputs": [
    {
     "data": {
      "application/vnd.jupyter.widget-view+json": {
       "model_id": "091185f6aae44193a6f059b14dc68c53",
       "version_major": 2,
       "version_minor": 0
      },
      "text/plain": [
       "FloatText(value=0.0)"
      ]
     },
     "metadata": {},
     "output_type": "display_data"
    },
    {
     "data": {
      "application/vnd.jupyter.widget-view+json": {
       "model_id": "08f6ff45e44d4fee8298b5a617a14cb0",
       "version_major": 2,
       "version_minor": 0
      },
      "text/plain": [
       "FloatSlider(value=0.0)"
      ]
     },
     "metadata": {},
     "output_type": "display_data"
    }
   ],
   "source": [
    "a = widgets.FloatText()\n",
    "b = widgets.FloatSlider()\n",
    "display(a, b)\n",
    "\n",
    "mylink = widgets.jslink((a, 'value'), (b, 'value'))"
   ]
  },
  {
   "cell_type": "markdown",
   "id": "b6e605a6-e86c-47c1-9ba9-38e67b1a68d9",
   "metadata": {
    "slideshow": {
     "slide_type": "subslide"
    },
    "tags": []
   },
   "source": [
    "## 👯 ¡Crear web interactiva!\n",
    "\n",
    "### Agregar algunos elementos interactivos\n",
    "\n",
    "#### FloatSLider"
   ]
  },
  {
   "cell_type": "code",
   "execution_count": 8,
   "id": "211fbc18-8a87-4930-bd20-b539618f5678",
   "metadata": {
    "slideshow": {
     "slide_type": "fragment"
    },
    "tags": []
   },
   "outputs": [
    {
     "data": {
      "application/vnd.jupyter.widget-view+json": {
       "model_id": "dc34ade05bd0449689abce09c7eeb6e2",
       "version_major": 2,
       "version_minor": 0
      },
      "text/plain": [
       "FloatSlider(value=7.5, continuous_update=False, description='Mi slider:', max=10.0, readout_format='.1f')"
      ]
     },
     "metadata": {},
     "output_type": "display_data"
    }
   ],
   "source": [
    "widgets.FloatSlider(\n",
    "    value=7.5,\n",
    "    min=0,\n",
    "    max=10.0,\n",
    "    step=0.1,\n",
    "    description='Mi slider:',\n",
    "    disabled=False,\n",
    "    continuous_update=False,\n",
    "    orientation='horizontal',\n",
    "    readout=True,\n",
    "    readout_format='.1f',\n",
    ")"
   ]
  },
  {
   "cell_type": "markdown",
   "id": "8a3d097f-9532-473e-b7f1-565573a35d38",
   "metadata": {
    "slideshow": {
     "slide_type": "fragment"
    },
    "tags": []
   },
   "source": [
    "#### FloatRangeSLider"
   ]
  },
  {
   "cell_type": "code",
   "execution_count": 9,
   "id": "38f96d6e-6422-4799-9a34-53aba4fbeb95",
   "metadata": {
    "slideshow": {
     "slide_type": "fragment"
    },
    "tags": []
   },
   "outputs": [
    {
     "data": {
      "application/vnd.jupyter.widget-view+json": {
       "model_id": "dfdf237c20fd4b0189126c4e1b869c01",
       "version_major": 2,
       "version_minor": 0
      },
      "text/plain": [
       "FloatRangeSlider(value=(5.0, 7.5), continuous_update=False, description='Test:', max=10.0, readout_format='.1f…"
      ]
     },
     "metadata": {},
     "output_type": "display_data"
    }
   ],
   "source": [
    "widgets.FloatRangeSlider(\n",
    "    value=[5, 7.5],\n",
    "    min=0,\n",
    "    max=10.0,\n",
    "    step=0.1,\n",
    "    description='Test:',\n",
    "    disabled=False,\n",
    "    continuous_update=False,\n",
    "    orientation='horizontal',\n",
    "    readout=True,\n",
    "    readout_format='.1f',\n",
    ")"
   ]
  },
  {
   "cell_type": "markdown",
   "id": "1e3acc01-4638-458a-a0db-998a9391db8c",
   "metadata": {
    "slideshow": {
     "slide_type": "subslide"
    },
    "tags": []
   },
   "source": [
    "## 👯 ¡Crear web interactiva!\n",
    "\n",
    "### Agregar algunos elementos interactivos\n",
    "\n",
    "#### 😱 IntProgress"
   ]
  },
  {
   "cell_type": "code",
   "execution_count": 10,
   "id": "5d2bc19a-1a48-4156-b87c-f6b4a468ba8c",
   "metadata": {},
   "outputs": [],
   "source": [
    "w = widgets.IntProgress(\n",
    "        value=1,\n",
    "        min=0,\n",
    "        max=10,\n",
    "        description='Loading:',\n",
    "        bar_style='', # 'success', 'info', 'warning', 'danger' or ''\n",
    "        style={'bar_color': 'maroon'},\n",
    "        orientation='horizontal'\n",
    ")"
   ]
  },
  {
   "cell_type": "code",
   "execution_count": 11,
   "id": "c6234032-a1bc-42eb-aa33-b98ff33cb104",
   "metadata": {
    "slideshow": {
     "slide_type": "fragment"
    },
    "tags": []
   },
   "outputs": [
    {
     "data": {
      "application/vnd.jupyter.widget-view+json": {
       "model_id": "39f3e3981e404c69b24a73b72189476d",
       "version_major": 2,
       "version_minor": 0
      },
      "text/plain": [
       "IntProgress(value=1, description='Loading:', max=10, style=ProgressStyle(bar_color='maroon'))"
      ]
     },
     "metadata": {},
     "output_type": "display_data"
    }
   ],
   "source": [
    "import time\n",
    "\n",
    "display(w)\n",
    "\n",
    "for i in range(10):\n",
    "    w.value += 1\n",
    "    time.sleep(1)"
   ]
  },
  {
   "cell_type": "markdown",
   "id": "5876a3da-265c-4854-a736-6cc64c6958d4",
   "metadata": {
    "slideshow": {
     "slide_type": "subslide"
    },
    "tags": []
   },
   "source": [
    "## 👯 ¡Crear web interactiva!\n",
    "\n",
    "### Agregar algunos elementos interactivos"
   ]
  },
  {
   "cell_type": "markdown",
   "id": "e9c0a40c-efe1-4079-a78e-59bef459f937",
   "metadata": {
    "slideshow": {
     "slide_type": "fragment"
    },
    "tags": []
   },
   "source": [
    "* Ejercicio: Crear un widget de rangos de edad entre 18 y 60 años con pasos de 2 y valor por defecto 28-30"
   ]
  },
  {
   "cell_type": "code",
   "execution_count": null,
   "id": "e3619591-e8a6-4e14-bfcb-6bd1ed71e558",
   "metadata": {},
   "outputs": [],
   "source": []
  },
  {
   "cell_type": "markdown",
   "id": "dde27073-a301-403e-97e7-9d884b0ccecb",
   "metadata": {
    "slideshow": {
     "slide_type": "subslide"
    },
    "tags": []
   },
   "source": [
    "## 👯 ¡Crear web interactiva!\n",
    "\n",
    "### Agregar algunos elementos interactivos\n",
    "\n",
    "#### Check"
   ]
  },
  {
   "cell_type": "code",
   "execution_count": 13,
   "id": "b0c13fb1-c146-4f95-9095-3bc0513bccbb",
   "metadata": {
    "slideshow": {
     "slide_type": "fragment"
    },
    "tags": []
   },
   "outputs": [
    {
     "data": {
      "application/vnd.jupyter.widget-view+json": {
       "model_id": "378e913837844c73b40cefc9d73b3b39",
       "version_major": 2,
       "version_minor": 0
      },
      "text/plain": [
       "ToggleButton(value=False, description='Click me', icon='check', tooltip='Description')"
      ]
     },
     "metadata": {},
     "output_type": "display_data"
    }
   ],
   "source": [
    "widgets.ToggleButton(\n",
    "    value=False,\n",
    "    description='Click me',\n",
    "    disabled=False,\n",
    "    button_style='', # 'success', 'info', 'warning', 'danger' or ''\n",
    "    tooltip='Description',\n",
    "    icon='check' # (FontAwesome names without the `fa-` prefix)\n",
    ")"
   ]
  },
  {
   "cell_type": "code",
   "execution_count": 14,
   "id": "245f0697-f03c-4e47-9eaf-499cec49adf4",
   "metadata": {
    "slideshow": {
     "slide_type": "fragment"
    },
    "tags": []
   },
   "outputs": [
    {
     "data": {
      "application/vnd.jupyter.widget-view+json": {
       "model_id": "5f0b6baf68c6423dbf38959f3d8cf871",
       "version_major": 2,
       "version_minor": 0
      },
      "text/plain": [
       "Checkbox(value=False, description='Check me', indent=False)"
      ]
     },
     "metadata": {},
     "output_type": "display_data"
    }
   ],
   "source": [
    "widgets.Checkbox(\n",
    "    value=False,\n",
    "    description='Check me',\n",
    "    disabled=False,\n",
    "    indent=False\n",
    ")"
   ]
  },
  {
   "cell_type": "markdown",
   "id": "c3d288a6-c307-4a8c-b347-f5c85c32d557",
   "metadata": {
    "slideshow": {
     "slide_type": "subslide"
    },
    "tags": []
   },
   "source": [
    "## 👯 ¡Crear web interactiva!\n",
    "\n",
    "### Agregar algunos elementos interactivos\n",
    "\n",
    "#### 💅 Selection"
   ]
  },
  {
   "cell_type": "code",
   "execution_count": 15,
   "id": "5f0bc955-5015-4f8c-a3fe-a0de8a01b384",
   "metadata": {},
   "outputs": [
    {
     "data": {
      "application/vnd.jupyter.widget-view+json": {
       "model_id": "c0aaaac7ff364c65ba2e0eb194c3d480",
       "version_major": 2,
       "version_minor": 0
      },
      "text/plain": [
       "Dropdown(description='Number:', index=1, options=('1', '2', '3'), value='2')"
      ]
     },
     "metadata": {},
     "output_type": "display_data"
    }
   ],
   "source": [
    "widgets.Dropdown(\n",
    "    options=['1', '2', '3'],\n",
    "    value='2',\n",
    "    description='Number:',\n",
    "    disabled=False,\n",
    ")"
   ]
  },
  {
   "cell_type": "code",
   "execution_count": 16,
   "id": "e456dab4-f81a-4cb9-a9fc-ba340e457a77",
   "metadata": {
    "slideshow": {
     "slide_type": "fragment"
    },
    "tags": []
   },
   "outputs": [
    {
     "data": {
      "application/vnd.jupyter.widget-view+json": {
       "model_id": "a6e44c8140f048fd938f86a81a2ab290",
       "version_major": 2,
       "version_minor": 0
      },
      "text/plain": [
       "Dropdown(description='Number:', index=1, options=(('One', 1), ('Two', 2), ('Three', 3)), value=2)"
      ]
     },
     "metadata": {},
     "output_type": "display_data"
    }
   ],
   "source": [
    "widgets.Dropdown(\n",
    "    options=[('One', 1), ('Two', 2), ('Three', 3)],\n",
    "    value=2,\n",
    "    description='Number:',\n",
    ")"
   ]
  },
  {
   "cell_type": "code",
   "execution_count": 17,
   "id": "4cd40fd0-55ad-4d72-8897-0ef2b0b7b730",
   "metadata": {},
   "outputs": [
    {
     "data": {
      "application/vnd.jupyter.widget-view+json": {
       "model_id": "13fd5e4ae020492eb945ac5c00ef50c0",
       "version_major": 2,
       "version_minor": 0
      },
      "text/plain": [
       "RadioButtons(description='Pizza topping:', options=('pepperoni', 'pineapple', 'anchovies'), value='pepperoni')"
      ]
     },
     "metadata": {},
     "output_type": "display_data"
    }
   ],
   "source": [
    "widgets.RadioButtons(\n",
    "    options=['pepperoni', 'pineapple', 'anchovies'],\n",
    "#    value='pineapple', # Defaults to 'pineapple'\n",
    "#    layout={'width': 'max-content'}, # If the items' names are long\n",
    "    description='Pizza topping:',\n",
    "    disabled=False\n",
    ")"
   ]
  },
  {
   "cell_type": "markdown",
   "id": "a76e8fd0-16ae-4cf7-8e47-432a8370ca2a",
   "metadata": {
    "slideshow": {
     "slide_type": "subslide"
    },
    "tags": []
   },
   "source": [
    "## 👯 ¡Crear web interactiva!\n",
    "\n",
    "### Agregar algunos elementos interactivos\n",
    "\n",
    "#### 💅 Selection\n",
    "\n",
    "* Ejercicio: Crear un widget que permita elegir entre países, almacene códigos del tipo 'ar', 'uy', pero le muestre el nombre completo de cada país al usuario."
   ]
  },
  {
   "cell_type": "code",
   "execution_count": null,
   "id": "46c24a61-ab9a-4ffc-b4cd-fd76efa38272",
   "metadata": {},
   "outputs": [],
   "source": []
  },
  {
   "cell_type": "code",
   "execution_count": null,
   "id": "43662ac6-059b-4044-9b88-582ada660508",
   "metadata": {},
   "outputs": [],
   "source": []
  },
  {
   "cell_type": "code",
   "execution_count": null,
   "id": "11d6de86-9935-42cf-9c0f-e5d47085b461",
   "metadata": {
    "slideshow": {
     "slide_type": "fragment"
    },
    "tags": []
   },
   "outputs": [],
   "source": []
  },
  {
   "cell_type": "markdown",
   "id": "666e23ab-4fd0-4b8e-97a4-94f1e57cb13d",
   "metadata": {
    "slideshow": {
     "slide_type": "subslide"
    },
    "tags": []
   },
   "source": [
    "## 👯 ¡Crear web interactiva!\n",
    "\n",
    "### Agregar algunos elementos interactivos\n",
    "\n",
    "#### 📚 Text"
   ]
  },
  {
   "cell_type": "code",
   "execution_count": 18,
   "id": "2422f49f-90a4-4412-b18c-858fd8493677",
   "metadata": {
    "slideshow": {
     "slide_type": "fragment"
    },
    "tags": []
   },
   "outputs": [
    {
     "data": {
      "application/vnd.jupyter.widget-view+json": {
       "model_id": "7302a6d7d99f467f95d68338ae492a49",
       "version_major": 2,
       "version_minor": 0
      },
      "text/plain": [
       "Password(description='Password:', placeholder='Enter password')"
      ]
     },
     "metadata": {},
     "output_type": "display_data"
    }
   ],
   "source": [
    "w = widgets.Password(\n",
    "        value='soy re hacker',\n",
    "        placeholder='Enter password',\n",
    "        description='Password:',\n",
    "        disabled=False\n",
    ")\n",
    "display(w)"
   ]
  },
  {
   "cell_type": "code",
   "execution_count": 19,
   "id": "2f318891-4b8b-496d-be6e-33a66bda0c79",
   "metadata": {
    "slideshow": {
     "slide_type": "fragment"
    },
    "tags": []
   },
   "outputs": [
    {
     "data": {
      "text/plain": [
       "'soy re hacker'"
      ]
     },
     "execution_count": 19,
     "metadata": {},
     "output_type": "execute_result"
    }
   ],
   "source": [
    "w.value"
   ]
  },
  {
   "cell_type": "markdown",
   "id": "583a8c93-5649-4cc7-8176-fa00dbbf51ba",
   "metadata": {
    "slideshow": {
     "slide_type": "fragment"
    },
    "tags": []
   },
   "source": [
    "#### 📚 Math"
   ]
  },
  {
   "cell_type": "code",
   "execution_count": 20,
   "id": "caf7b394-0d5e-410f-a9a4-f61730898ee8",
   "metadata": {
    "slideshow": {
     "slide_type": "fragment"
    },
    "tags": []
   },
   "outputs": [
    {
     "data": {
      "application/vnd.jupyter.widget-view+json": {
       "model_id": "9dacbef3e4e44b229bbc99b579401c13",
       "version_major": 2,
       "version_minor": 0
      },
      "text/plain": [
       "HTMLMath(value='Some math and <i>HTML</i>: \\\\(x^2\\\\) and $$\\\\frac{x+1}{x-1}$$', description='Some HTML', place…"
      ]
     },
     "metadata": {},
     "output_type": "display_data"
    }
   ],
   "source": [
    "widgets.HTMLMath(\n",
    "    value=r\"Some math and <i>HTML</i>: \\(x^2\\) and $$\\frac{x+1}{x-1}$$\",\n",
    "    placeholder='Some HTML',\n",
    "    description='Some HTML',\n",
    ")"
   ]
  },
  {
   "cell_type": "markdown",
   "id": "ce7066d6-3e46-4b8e-8323-f4fa25804d8c",
   "metadata": {
    "slideshow": {
     "slide_type": "subslide"
    },
    "tags": []
   },
   "source": [
    "## 👯 ¡Crear web interactiva!\n",
    "\n",
    "### Agregar algunos elementos interactivos\n",
    "\n",
    "#### 📚 Text"
   ]
  },
  {
   "cell_type": "markdown",
   "id": "1cd8f14b-1d02-4c39-9c77-30e9535bcb96",
   "metadata": {
    "slideshow": {
     "slide_type": "subslide"
    },
    "tags": []
   },
   "source": [
    "* Ejercicio: Escribir un título y un subtítulo en HTML usando el widget correspondiente."
   ]
  },
  {
   "cell_type": "code",
   "execution_count": null,
   "id": "27960722-62a0-472b-be4c-836b7636cb03",
   "metadata": {
    "slideshow": {
     "slide_type": "fragment"
    },
    "tags": []
   },
   "outputs": [],
   "source": []
  },
  {
   "cell_type": "markdown",
   "id": "9762edfa-dd25-4208-a863-500dd0a8768e",
   "metadata": {
    "slideshow": {
     "slide_type": "fragment"
    },
    "tags": []
   },
   "source": [
    "### Images!"
   ]
  },
  {
   "cell_type": "code",
   "execution_count": 22,
   "id": "9b189557-9050-411c-b9ec-0ed7b2ec054c",
   "metadata": {
    "slideshow": {
     "slide_type": "fragment"
    },
    "tags": []
   },
   "outputs": [
    {
     "data": {
      "application/vnd.jupyter.widget-view+json": {
       "model_id": "d0c86e17890b49e387632cddcaa66396",
       "version_major": 2,
       "version_minor": 0
      },
      "text/plain": [
       "Image(value=b'\\x89PNG\\r\\n\\x1a\\n\\x00\\x00\\x00\\rIHDR\\x00\\x00\\x01\\x90\\x00\\x00\\x01\\x90\\x08\\x06\\x00\\x00\\x00\\x80\\xbf6…"
      ]
     },
     "metadata": {},
     "output_type": "display_data"
    }
   ],
   "source": [
    "file = open(\"img/pyladies.png\", \"rb\")\n",
    "image = file.read()\n",
    "\n",
    "widgets.Image(\n",
    "    value=image,\n",
    "    format='png',\n",
    "    width='300'\n",
    ")"
   ]
  },
  {
   "cell_type": "markdown",
   "id": "68617b9c-a158-4d6d-905e-78a5bca605a5",
   "metadata": {
    "slideshow": {
     "slide_type": "subslide"
    },
    "tags": []
   },
   "source": [
    "## 👯 ¡Crear web interactiva!\n",
    "\n",
    "### Agregar algunos elementos interactivos\n",
    "\n",
    "#### Output\n",
    "\n",
    "##### 🎵 Play "
   ]
  },
  {
   "cell_type": "code",
   "execution_count": 23,
   "id": "ac099b72-f454-4159-80a7-4365193afbbe",
   "metadata": {
    "slideshow": {
     "slide_type": "fragment"
    },
    "tags": []
   },
   "outputs": [
    {
     "data": {
      "application/vnd.jupyter.widget-view+json": {
       "model_id": "a62b818d949f4982982b1a0f19acd5f4",
       "version_major": 2,
       "version_minor": 0
      },
      "text/plain": [
       "HBox(children=(Play(value=50, description='Press play', interval=500), IntSlider(value=0)))"
      ]
     },
     "metadata": {},
     "output_type": "display_data"
    }
   ],
   "source": [
    "play = widgets.Play(\n",
    "    value=50,\n",
    "    min=0,\n",
    "    max=100,\n",
    "    step=1,\n",
    "    interval=500,\n",
    "    description=\"Press play\",\n",
    "    disabled=False\n",
    ")\n",
    "slider = widgets.IntSlider()\n",
    "widgets.jslink((play, 'value'), (slider, 'value'))\n",
    "widgets.HBox([play, slider])"
   ]
  },
  {
   "cell_type": "markdown",
   "id": "f34a5e43-d1ab-45f7-bab4-d7f0c6b00d69",
   "metadata": {
    "slideshow": {
     "slide_type": "subslide"
    },
    "tags": []
   },
   "source": [
    "## 👯 ¡Crear web interactiva!\n",
    "\n",
    "### Agregar algunos elementos interactivos\n",
    "\n",
    "#### Output\n",
    "\n",
    "##### 👈 Pickers"
   ]
  },
  {
   "cell_type": "code",
   "execution_count": 24,
   "id": "e5971b5c-0bb5-47d2-8803-8149b0e29394",
   "metadata": {
    "slideshow": {
     "slide_type": "fragment"
    },
    "tags": []
   },
   "outputs": [
    {
     "data": {
      "application/vnd.jupyter.widget-view+json": {
       "model_id": "58b94b5667844a199ca8c8cfa57589ce",
       "version_major": 2,
       "version_minor": 0
      },
      "text/plain": [
       "DatePicker(value=None, description='Pick a Date')"
      ]
     },
     "metadata": {},
     "output_type": "display_data"
    }
   ],
   "source": [
    "widgets.DatePicker(\n",
    "    description='Pick a Date',\n",
    "    disabled=False\n",
    ")"
   ]
  },
  {
   "cell_type": "code",
   "execution_count": 25,
   "id": "1ba745b0-a98c-4dbd-8739-3dae23f7d280",
   "metadata": {
    "slideshow": {
     "slide_type": "fragment"
    },
    "tags": []
   },
   "outputs": [
    {
     "data": {
      "application/vnd.jupyter.widget-view+json": {
       "model_id": "821cca8cfb3a4d53b2953d074c720504",
       "version_major": 2,
       "version_minor": 0
      },
      "text/plain": [
       "ColorPicker(value='violet', description='Pick a color')"
      ]
     },
     "metadata": {},
     "output_type": "display_data"
    }
   ],
   "source": [
    "widgets.ColorPicker(\n",
    "    concise=False,\n",
    "    description='Pick a color',\n",
    "    value='violet',\n",
    "    disabled=False\n",
    ")"
   ]
  },
  {
   "cell_type": "code",
   "execution_count": 26,
   "id": "27298ebe-3d5e-4d18-bc25-165a90f03f4c",
   "metadata": {
    "slideshow": {
     "slide_type": "fragment"
    },
    "tags": []
   },
   "outputs": [
    {
     "data": {
      "application/vnd.jupyter.widget-view+json": {
       "model_id": "03d04f01699d4a4db54fb9b90c5b792f",
       "version_major": 2,
       "version_minor": 0
      },
      "text/plain": [
       "FileUpload(value={}, description='Upload')"
      ]
     },
     "metadata": {},
     "output_type": "display_data"
    }
   ],
   "source": [
    "widgets.FileUpload(\n",
    "    accept='',  # Accepted file extension e.g. '.txt', '.pdf', 'image/*', 'image/*,.pdf'\n",
    "    multiple=False  # True to accept multiple files upload else False\n",
    ")"
   ]
  },
  {
   "cell_type": "markdown",
   "id": "7681cfab-973b-4669-89ff-b975b2180d5e",
   "metadata": {
    "slideshow": {
     "slide_type": "subslide"
    },
    "tags": []
   },
   "source": [
    "## 👯 ¡Crear web interactiva!\n",
    "\n",
    "### Agregar algunos elementos interactivos\n",
    "\n",
    "##### Children"
   ]
  },
  {
   "cell_type": "code",
   "execution_count": 27,
   "id": "c51af917-6977-4ce8-816d-390e88300abc",
   "metadata": {
    "slideshow": {
     "slide_type": "fragment"
    },
    "tags": []
   },
   "outputs": [
    {
     "data": {
      "application/vnd.jupyter.widget-view+json": {
       "model_id": "bf481eac5ed64f8b884e906efacad2c7",
       "version_major": 2,
       "version_minor": 0
      },
      "text/plain": [
       "Accordion(children=(IntSlider(value=0), Text(value='')))"
      ]
     },
     "metadata": {},
     "output_type": "display_data"
    }
   ],
   "source": [
    "accordion = widgets.Accordion(children=[widgets.IntSlider(), widgets.Text()], titles=('Slider', 'Text'))\n",
    "accordion"
   ]
  },
  {
   "cell_type": "code",
   "execution_count": 28,
   "id": "2c690559-cc32-40f6-a828-b1248df0f1e9",
   "metadata": {
    "slideshow": {
     "slide_type": "fragment"
    },
    "tags": []
   },
   "outputs": [
    {
     "data": {
      "application/vnd.jupyter.widget-view+json": {
       "model_id": "2dd39480405240ee9eb469b203f18141",
       "version_major": 2,
       "version_minor": 0
      },
      "text/plain": [
       "Tab(children=(Accordion(children=(IntSlider(value=0), Text(value=''))), Accordion(children=(IntSlider(value=0)…"
      ]
     },
     "metadata": {},
     "output_type": "display_data"
    }
   ],
   "source": [
    "tab_nest = widgets.Tab()\n",
    "tab_nest.children = [accordion, accordion]\n",
    "tab_nest.titles = ('An accordion', 'Copy of the accordion')\n",
    "tab_nest"
   ]
  },
  {
   "cell_type": "markdown",
   "id": "e5cca770-0fe2-4db6-b3a5-590085d6ea2c",
   "metadata": {
    "slideshow": {
     "slide_type": "subslide"
    },
    "tags": []
   },
   "source": [
    "## 👯 ¡Crear web interactiva!\n",
    "\n",
    "### Divertirnos"
   ]
  },
  {
   "cell_type": "markdown",
   "id": "9764938e-21b6-425c-b612-97374dd814e1",
   "metadata": {
    "slideshow": {
     "slide_type": "fragment"
    },
    "tags": []
   },
   "source": [
    "* Image widget and label"
   ]
  },
  {
   "cell_type": "code",
   "execution_count": 29,
   "id": "ec545dc5-3603-4293-9238-d58665637c0e",
   "metadata": {
    "slideshow": {
     "slide_type": "fragment"
    },
    "tags": []
   },
   "outputs": [],
   "source": [
    "file = open(\"img/pyladies.png\", \"rb\")\n",
    "image = file.read()\n",
    "\n",
    "image_widget = widgets.Image(\n",
    "                    value=image,\n",
    "                    format='png',\n",
    "                    width='300'\n",
    "                )\n",
    "\n",
    "image_label = widgets.Label(\n",
    "                    value='Pyladies UY',\n",
    "                    style={'description_width': 'initial'}\n",
    "                )\n",
    "\n",
    "vbox = widgets.VBox([image_widget, image_label])"
   ]
  },
  {
   "cell_type": "markdown",
   "id": "e70552b1-5edf-4b82-b4a3-d7ac69595efe",
   "metadata": {
    "slideshow": {
     "slide_type": "fragment"
    },
    "tags": []
   },
   "source": [
    "* Picker de dos opciones"
   ]
  },
  {
   "cell_type": "code",
   "execution_count": 30,
   "id": "7ff1660e-8ea5-41e8-8eb5-de181e1d00fd",
   "metadata": {
    "slideshow": {
     "slide_type": "fragment"
    },
    "tags": []
   },
   "outputs": [],
   "source": [
    "input_option = widgets.ToggleButtons(\n",
    "            options=['darle alegría-macarena', 'hacer mi 1er webapp']\n",
    "        )"
   ]
  },
  {
   "cell_type": "markdown",
   "id": "4ba35f2a-1c47-435f-98b9-c1e28178c95b",
   "metadata": {
    "slideshow": {
     "slide_type": "fragment"
    },
    "tags": []
   },
   "source": [
    "* Text para ingresar nombre"
   ]
  },
  {
   "cell_type": "code",
   "execution_count": 31,
   "id": "8dad30bc-bf4f-4ab0-b51e-81824a53d135",
   "metadata": {
    "slideshow": {
     "slide_type": "fragment"
    },
    "tags": []
   },
   "outputs": [],
   "source": [
    "input_name = widgets.Text(placeholder='Escribí tu nombre')\n"
   ]
  },
  {
   "cell_type": "markdown",
   "id": "f8479ab9-05f4-4f80-a8cc-915e53f2f62b",
   "metadata": {
    "slideshow": {
     "slide_type": "subslide"
    },
    "tags": []
   },
   "source": [
    "## 👯 ¡Crear web interactiva!\n",
    "\n",
    "### Divertirnos"
   ]
  },
  {
   "cell_type": "markdown",
   "id": "35b7e038-29d1-42f6-b86c-3f869e80a3c5",
   "metadata": {
    "slideshow": {
     "slide_type": "fragment"
    },
    "tags": []
   },
   "source": [
    "* Picker fecha"
   ]
  },
  {
   "cell_type": "code",
   "execution_count": 32,
   "id": "6c966390-24fd-40dc-8beb-000fb636d543",
   "metadata": {
    "slideshow": {
     "slide_type": "fragment"
    },
    "tags": []
   },
   "outputs": [],
   "source": [
    "input_date = widgets.DatePicker(description='')\n"
   ]
  },
  {
   "cell_type": "markdown",
   "id": "6a31335e-e3e2-476c-aa83-0a6fbec992c8",
   "metadata": {
    "slideshow": {
     "slide_type": "fragment"
    },
    "tags": []
   },
   "source": [
    "* IntSlider"
   ]
  },
  {
   "cell_type": "code",
   "execution_count": 33,
   "id": "ab8477c2-640f-42b3-8c23-b689ade7abf8",
   "metadata": {
    "slideshow": {
     "slide_type": "fragment"
    },
    "tags": []
   },
   "outputs": [],
   "source": [
    "input_friends = widgets.IntSlider(\n",
    "            value=3, # default value\n",
    "            min=0, \n",
    "            max=50,\n",
    "            step=1,\n",
    "            style={'description_width': 'initial', 'handle_color': '#16a085'} \n",
    "        )"
   ]
  },
  {
   "cell_type": "markdown",
   "id": "4f65668b-28fc-48af-9312-c2d804c401b1",
   "metadata": {
    "slideshow": {
     "slide_type": "fragment"
    },
    "tags": []
   },
   "source": [
    "* Botón de \"play\""
   ]
  },
  {
   "cell_type": "code",
   "execution_count": 34,
   "id": "bad78c73-6600-4ae5-aeb1-1ed89a49f11a",
   "metadata": {
    "slideshow": {
     "slide_type": "fragment"
    },
    "tags": []
   },
   "outputs": [],
   "source": [
    "button = widgets.Button(\n",
    "                description='Crear tweet',\n",
    "                tooltip='Play',\n",
    "                style={'description_width': 'initial'}\n",
    "            )"
   ]
  },
  {
   "cell_type": "markdown",
   "id": "db439ca6-726b-4998-b086-f89a251b813f",
   "metadata": {
    "slideshow": {
     "slide_type": "subslide"
    },
    "tags": []
   },
   "source": [
    "## 👯 ¡Crear web interactiva!\n",
    "\n",
    "### Divertirnos"
   ]
  },
  {
   "cell_type": "markdown",
   "id": "9ab802e9-94ed-4dc8-8b76-ed9d1718b45b",
   "metadata": {
    "slideshow": {
     "slide_type": "fragment"
    },
    "tags": []
   },
   "source": [
    "* Output \"generador de tweet\""
   ]
  },
  {
   "cell_type": "code",
   "execution_count": 35,
   "id": "6f49658e-20f5-4f8a-83b4-102d1413229d",
   "metadata": {
    "slideshow": {
     "slide_type": "fragment"
    },
    "tags": []
   },
   "outputs": [],
   "source": [
    "output = widgets.Output()\n",
    "\n",
    "def on_button_clicked(event):\n",
    "    with output:\n",
    "        clear_output()\n",
    "        print(\"Tweet: \")\n",
    "        print(f\"Hoy ({input_date.value}) me levanté con ganas de {input_option.value}, típico de {input_name.value}.\")\n",
    "        print(f\"Y junto con {input_friends.value} @payladiesuy hicimos nuestra primer webapp!\")\n",
    "        \n",
    "button.on_click(on_button_clicked)\n",
    "vbox_result = widgets.VBox([button, output])"
   ]
  },
  {
   "cell_type": "markdown",
   "id": "18f6ea73-1cbc-4dae-a0f2-4345b7d382a5",
   "metadata": {
    "slideshow": {
     "slide_type": "fragment"
    },
    "tags": []
   },
   "source": [
    "* Un poco de HTML"
   ]
  },
  {
   "cell_type": "code",
   "execution_count": 36,
   "id": "607c50d0-0846-4040-9d3e-9407f654de63",
   "metadata": {
    "slideshow": {
     "slide_type": "fragment"
    },
    "tags": []
   },
   "outputs": [],
   "source": [
    "title = widgets.HTML(value=\"<h2>¡BUENAS, BUENAS!</h3>\")\n",
    "subtitle = widgets.HTML(value=\"<h3>Hoy amanecimos con ganas de</h3>\")\n",
    "date_text = widgets.HTML(value=\"<h3>Hoy es... </h3>\")\n",
    "final_text = widgets.HTML(value=\"<h3> pyladies presentes hoy  </h3>\")\n",
    "\n",
    "vbox_text = widgets.VBox([title, subtitle, input_option,\n",
    "                          input_name,\n",
    "                          date_text, input_date,\n",
    "                          input_friends, final_text, \n",
    "                          vbox_result])\n",
    "\n",
    "vbox_result = widgets.VBox([button, output])"
   ]
  },
  {
   "cell_type": "markdown",
   "id": "19c397d0-c394-42de-b854-8ed06bd4e53a",
   "metadata": {
    "slideshow": {
     "slide_type": "subslide"
    },
    "tags": []
   },
   "source": [
    "## 👯 ¡Crear web interactiva!\n",
    "\n",
    "### Divertirnos"
   ]
  },
  {
   "cell_type": "code",
   "execution_count": 37,
   "id": "97824ec4-cb8a-4669-89dc-3b6d67eae439",
   "metadata": {
    "slideshow": {
     "slide_type": "fragment"
    },
    "tags": []
   },
   "outputs": [
    {
     "data": {
      "application/vnd.jupyter.widget-view+json": {
       "model_id": "caeeebcba7374f65a7c2f238c107757b",
       "version_major": 2,
       "version_minor": 0
      },
      "text/plain": [
       "HBox(children=(Image(value=b'\\x89PNG\\r\\n\\x1a\\n\\x00\\x00\\x00\\rIHDR\\x00\\x00\\x01\\x90\\x00\\x00\\x01\\x90\\x08\\x06\\x00\\x…"
      ]
     },
     "metadata": {},
     "output_type": "display_data"
    }
   ],
   "source": [
    "page = widgets.HBox([image_widget, vbox_text])\n",
    "display(page)"
   ]
  },
  {
   "cell_type": "markdown",
   "id": "4531fe84-e77e-4eb6-9008-f2a1ab8ecd4d",
   "metadata": {
    "slideshow": {
     "slide_type": "slide"
    },
    "tags": []
   },
   "source": [
    "## 🌈 Render del notebook ([voilá](https://github.com/voila-dashboards/voila))\n",
    "\n",
    "![](img/voila.png)"
   ]
  },
  {
   "cell_type": "markdown",
   "id": "4ae9bcc4-ecef-46d3-b9d5-63044e86b31f",
   "metadata": {
    "slideshow": {
     "slide_type": "slide"
    },
    "tags": []
   },
   "source": [
    "## 🎉 Publicar y presumir nuestra webapp con [binder](https://mybinder.org/)\n",
    "### Generar requirements"
   ]
  },
  {
   "cell_type": "code",
   "execution_count": 38,
   "id": "196a60df-34fa-467d-8b37-c31cc6c8ef63",
   "metadata": {
    "slideshow": {
     "slide_type": "fragment"
    },
    "tags": []
   },
   "outputs": [],
   "source": [
    "! pip freeze > requirements.txt"
   ]
  },
  {
   "cell_type": "markdown",
   "id": "5cc225f4-93fe-4f6a-986d-d69a072f1ab8",
   "metadata": {
    "slideshow": {
     "slide_type": "fragment"
    },
    "tags": []
   },
   "source": [
    "### Pushear cambios\n",
    "\n",
    "```bash\n",
    "(webapp)~taller-webapp-pyladies-uy$ git add *\n",
    "(webapp)~taller-webapp-pyladies-uy$ git commit -m 'My first webapp'\n",
    "(webapp)~taller-webapp-pyladies-uy$ git push\n",
    "```"
   ]
  },
  {
   "cell_type": "markdown",
   "id": "889e7079-c053-485d-9a6f-04bba760c36f",
   "metadata": {
    "slideshow": {
     "slide_type": "subslide"
    },
    "tags": []
   },
   "source": [
    "## 🎉 Publicar y presumir nuestra webapp con [binder](https://mybinder.org/)\n"
   ]
  },
  {
   "cell_type": "markdown",
   "id": "1359ed84-49c1-47c8-a3c8-a02a6ab9373e",
   "metadata": {
    "slideshow": {
     "slide_type": "fragment"
    },
    "tags": []
   },
   "source": [
    "* [mybinder.org](https://mybinder.org/)\n",
    "![](https://user-images.githubusercontent.com/1510968/34175153-b8a79162-e4fb-11e7-81fe-c4794bc53442.png)"
   ]
  },
  {
   "cell_type": "markdown",
   "id": "237ce623-a354-41b2-a88d-f8b2c2cc8ee6",
   "metadata": {
    "slideshow": {
     "slide_type": "slide"
    },
    "tags": []
   },
   "source": [
    "## La yapa\n",
    "\n"
   ]
  },
  {
   "cell_type": "markdown",
   "id": "c1b26cd7-6aae-40e1-8ecd-23f011c6d7af",
   "metadata": {
    "slideshow": {
     "slide_type": "fragment"
    },
    "tags": []
   },
   "source": [
    "[![](https://img.shields.io/badge/Git-F05032?style=for-the-badge&logo=git&logoColor=white)](https://git-scm.com/downloads)  \n",
    "[![](https://img.shields.io/badge/Python-3776AB?style=for-the-badge&logo=python&logoColor=white)](https://www.python.org/downloads/) \n",
    "[![](https://anaconda.org/anaconda/anaconda/badges/installer/conda.svg)](https://docs.conda.io/en/latest/miniconda.html)\n",
    "[![](https://img.shields.io/badge/Jupyter-F37626.svg?&style=for-the-badge&logo=Jupyter&logoColor=white)](https://jupyter.org/) \n",
    "\n",
    "\n",
    "```markdown\n",
    "[![](https://img.shields.io/badge/Git-F05032?style=for-the-badge&logo=git&logoColor=white)](https://git-scm.com/downloads)  \n",
    "[![](https://img.shields.io/badge/Python-3776AB?style=for-the-badge&logo=python&logoColor=white)](https://www.python.org/downloads/) \n",
    "[![](https://anaconda.org/anaconda/anaconda/badges/installer/conda.svg)](https://docs.conda.io/en/latest/miniconda.html)\n",
    "[![](https://img.shields.io/badge/Jupyter-F37626.svg?&style=for-the-badge&logo=Jupyter&logoColor=white)](https://jupyter.org/)  \n",
    "``` "
   ]
  },
  {
   "cell_type": "markdown",
   "id": "ced70fc4-a40a-4bf6-9267-9dc59f5fcaa3",
   "metadata": {
    "slideshow": {
     "slide_type": "slide"
    },
    "tags": []
   },
   "source": [
    "## 🤔❓ Dudas\n",
    "\n",
    "[ipywidgets doc](https://ipywidgets.readthedocs.io/en/latest/index.html)"
   ]
  }
 ],
 "metadata": {
  "kernelspec": {
   "display_name": "Python 3 (ipykernel)",
   "language": "python",
   "name": "python3"
  },
  "language_info": {
   "codemirror_mode": {
    "name": "ipython",
    "version": 3
   },
   "file_extension": ".py",
   "mimetype": "text/x-python",
   "name": "python",
   "nbconvert_exporter": "python",
   "pygments_lexer": "ipython3",
   "version": "3.8.11"
  },
  "toc-autonumbering": false,
  "toc-showcode": false,
  "toc-showmarkdowntxt": false,
  "toc-showtags": false
 },
 "nbformat": 4,
 "nbformat_minor": 5
}
